{
  "nbformat": 4,
  "nbformat_minor": 0,
  "metadata": {
    "colab": {
      "provenance": []
    },
    "kernelspec": {
      "name": "python3",
      "display_name": "Python 3"
    },
    "language_info": {
      "name": "python"
    }
  },
  "cells": [
    {
      "cell_type": "code",
      "source": [
        "import pandas as pd\n",
        "import numpy as np\n",
        "import matplotlib.pyplot as plt\n",
        "import imageio\n",
        "\n",
        "\n",
        "new_directory = '/content/sample_data/gif'\n",
        "\n",
        "def cost_function(slope, intercept, x, y):\n",
        "    return np.power(y - (slope * x) - intercept, 2)\n",
        "\n",
        "def gradient_descent_step(slope, intercept, learning_rate, X, Y):\n",
        "    # Calculate gradients for slope and intercept\n",
        "    slope_gradient = -2 * np.sum((Y - (slope * X) - intercept) * X) / len(X)\n",
        "    intercept_gradient = -2 * np.sum(Y - (slope * X) - intercept) / len(X)\n",
        "\n",
        "    # Update slope and intercept\n",
        "    new_slope = slope - learning_rate * slope_gradient\n",
        "    new_intercept = intercept - learning_rate * intercept_gradient\n",
        "\n",
        "    # Calculate loss for this iteration\n",
        "    loss = np.sum(cost_function(slope, intercept, X, Y))\n",
        "\n",
        "    return new_slope, new_intercept, loss\n",
        "\n",
        "def generate_gif(iterations, slope, intercept, learning_rate, X, Y):\n",
        "    images = []\n",
        "\n",
        "    for i in range(iterations):\n",
        "        # Update model parameters\n",
        "        slope, intercept, loss = gradient_descent_step(slope, intercept, learning_rate, X, Y)\n",
        "\n",
        "        # Plot the data points and fitted line\n",
        "        predicted_y = slope * X + intercept\n",
        "        plt.scatter(X, Y, color='green')\n",
        "        plt.plot(X, predicted_y, color='cyan')\n",
        "        plt.title(f\"Iteration: {i + 1} | Loss: {loss:.4f}\")\n",
        "\n",
        "        # Save the plot as an image in the new directory\n",
        "        image_path = f'{new_directory}iter_{i + 1}.png'\n",
        "        plt.savefig(image_path)\n",
        "        plt.clf()\n",
        "\n",
        "        # Read the saved image\n",
        "        images.append(imageio.imread(image_path))\n",
        "\n",
        "    # Save the GIF animation in the new directory\n",
        "    gif_path = f'{new_directory}animated.gif'\n",
        "    imageio.mimsave(gif_path, images, duration=0.1)\n",
        "\n",
        "    return gif_path\n",
        "\n",
        "\n",
        "data_path = '/content/sample_data/data.xlsx'\n",
        "data = pd.read_excel(data_path)\n",
        "\n",
        "X = data['x'].to_numpy()\n",
        "Y = data['y'].to_numpy()\n",
        "\n",
        "# Initialize model parameters\n",
        "slope = 0.099\n",
        "intercept = 0.099\n",
        "learning_rate = 0.001\n",
        "iterations = 1000\n",
        "\n",
        "# Generate the GIF animation\n",
        "gif_path = generate_gif(iterations, slope, intercept, learning_rate, X, Y)\n",
        "\n",
        "\n"
      ],
      "metadata": {
        "id": "RdUpTf5vNDvr"
      },
      "execution_count": null,
      "outputs": []
    }
  ]
}